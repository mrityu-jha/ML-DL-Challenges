{
  "nbformat": 4,
  "nbformat_minor": 0,
  "metadata": {
    "colab": {
      "name": "Holiday Season",
      "provenance": [],
      "collapsed_sections": [],
      "include_colab_link": true
    },
    "kernelspec": {
      "display_name": "Python 3",
      "language": "python",
      "name": "python3"
    },
    "language_info": {
      "codemirror_mode": {
        "name": "ipython",
        "version": 3
      },
      "file_extension": ".py",
      "mimetype": "text/x-python",
      "name": "python",
      "nbconvert_exporter": "python",
      "pygments_lexer": "ipython3",
      "version": "3.7.6"
    },
    "accelerator": "GPU"
  },
  "cells": [
    {
      "cell_type": "markdown",
      "metadata": {
        "id": "view-in-github",
        "colab_type": "text"
      },
      "source": [
        "<a href=\"https://colab.research.google.com/github/mrityu-jha/ML-DL-Challenges/blob/main/Holiday%20Season.ipynb\" target=\"_parent\"><img src=\"https://colab.research.google.com/assets/colab-badge.svg\" alt=\"Open In Colab\"/></a>"
      ]
    },
    {
      "cell_type": "code",
      "metadata": {
        "id": "XTHof1IQJshf"
      },
      "source": [
        "import numpy as np\n",
        "import pandas as pd\n",
        "import os"
      ],
      "execution_count": 1,
      "outputs": []
    },
    {
      "cell_type": "code",
      "metadata": {
        "colab": {
          "base_uri": "https://localhost:8080/"
        },
        "id": "PV4DoPslupgp",
        "outputId": "9b440f83-21ab-4384-bb04-7d7decffa6e3"
      },
      "source": [
        "from google.colab import drive\n",
        "drive.mount('/content/drive')"
      ],
      "execution_count": 2,
      "outputs": [
        {
          "output_type": "stream",
          "text": [
            "Mounted at /content/drive\n"
          ],
          "name": "stdout"
        }
      ]
    },
    {
      "cell_type": "code",
      "metadata": {
        "id": "8rQ2jVwXj2Tc"
      },
      "source": [
        "!unzip '/content/drive/MyDrive/Holiday Season HackerEarth/14feeca248c811eb.zip' -d '/content/'"
      ],
      "execution_count": null,
      "outputs": []
    },
    {
      "cell_type": "code",
      "metadata": {
        "id": "DYdEYNh8Jshp"
      },
      "source": [
        "data_dir = '/content/dataset'\n",
        "TARGET_SIZE = ( 299, 299 )\n",
        "BATCH_SIZE = 32\n",
        "data_frame = pd.read_csv( os.path.join( data_dir, 'train.csv') )"
      ],
      "execution_count": 4,
      "outputs": []
    },
    {
      "cell_type": "code",
      "metadata": {
        "id": "qapg1hmzJshp",
        "colab": {
          "base_uri": "https://localhost:8080/",
          "height": 195
        },
        "outputId": "27ea4d99-4d65-4c45-8fdc-76013bd2e4b6"
      },
      "source": [
        "data_frame.head()"
      ],
      "execution_count": 5,
      "outputs": [
        {
          "output_type": "execute_result",
          "data": {
            "text/html": [
              "<div>\n",
              "<style scoped>\n",
              "    .dataframe tbody tr th:only-of-type {\n",
              "        vertical-align: middle;\n",
              "    }\n",
              "\n",
              "    .dataframe tbody tr th {\n",
              "        vertical-align: top;\n",
              "    }\n",
              "\n",
              "    .dataframe thead th {\n",
              "        text-align: right;\n",
              "    }\n",
              "</style>\n",
              "<table border=\"1\" class=\"dataframe\">\n",
              "  <thead>\n",
              "    <tr style=\"text-align: right;\">\n",
              "      <th></th>\n",
              "      <th>Image</th>\n",
              "      <th>Class</th>\n",
              "    </tr>\n",
              "  </thead>\n",
              "  <tbody>\n",
              "    <tr>\n",
              "      <th>0</th>\n",
              "      <td>image3476.jpg</td>\n",
              "      <td>Miscellaneous</td>\n",
              "    </tr>\n",
              "    <tr>\n",
              "      <th>1</th>\n",
              "      <td>image5198.jpg</td>\n",
              "      <td>Candle</td>\n",
              "    </tr>\n",
              "    <tr>\n",
              "      <th>2</th>\n",
              "      <td>image4183.jpg</td>\n",
              "      <td>Snowman</td>\n",
              "    </tr>\n",
              "    <tr>\n",
              "      <th>3</th>\n",
              "      <td>image1806.jpg</td>\n",
              "      <td>Miscellaneous</td>\n",
              "    </tr>\n",
              "    <tr>\n",
              "      <th>4</th>\n",
              "      <td>image7831.jpg</td>\n",
              "      <td>Miscellaneous</td>\n",
              "    </tr>\n",
              "  </tbody>\n",
              "</table>\n",
              "</div>"
            ],
            "text/plain": [
              "           Image          Class\n",
              "0  image3476.jpg  Miscellaneous\n",
              "1  image5198.jpg         Candle\n",
              "2  image4183.jpg        Snowman\n",
              "3  image1806.jpg  Miscellaneous\n",
              "4  image7831.jpg  Miscellaneous"
            ]
          },
          "metadata": {
            "tags": []
          },
          "execution_count": 5
        }
      ]
    },
    {
      "cell_type": "code",
      "metadata": {
        "id": "b0k7M5HsJsht",
        "colab": {
          "base_uri": "https://localhost:8080/",
          "height": 166
        },
        "outputId": "141febc3-414b-43dd-f622-adbe2b28be81"
      },
      "source": [
        "data_frame.describe()"
      ],
      "execution_count": 6,
      "outputs": [
        {
          "output_type": "execute_result",
          "data": {
            "text/html": [
              "<div>\n",
              "<style scoped>\n",
              "    .dataframe tbody tr th:only-of-type {\n",
              "        vertical-align: middle;\n",
              "    }\n",
              "\n",
              "    .dataframe tbody tr th {\n",
              "        vertical-align: top;\n",
              "    }\n",
              "\n",
              "    .dataframe thead th {\n",
              "        text-align: right;\n",
              "    }\n",
              "</style>\n",
              "<table border=\"1\" class=\"dataframe\">\n",
              "  <thead>\n",
              "    <tr style=\"text-align: right;\">\n",
              "      <th></th>\n",
              "      <th>Image</th>\n",
              "      <th>Class</th>\n",
              "    </tr>\n",
              "  </thead>\n",
              "  <tbody>\n",
              "    <tr>\n",
              "      <th>count</th>\n",
              "      <td>6469</td>\n",
              "      <td>6469</td>\n",
              "    </tr>\n",
              "    <tr>\n",
              "      <th>unique</th>\n",
              "      <td>6469</td>\n",
              "      <td>6</td>\n",
              "    </tr>\n",
              "    <tr>\n",
              "      <th>top</th>\n",
              "      <td>image9093.jpg</td>\n",
              "      <td>Miscellaneous</td>\n",
              "    </tr>\n",
              "    <tr>\n",
              "      <th>freq</th>\n",
              "      <td>1</td>\n",
              "      <td>2801</td>\n",
              "    </tr>\n",
              "  </tbody>\n",
              "</table>\n",
              "</div>"
            ],
            "text/plain": [
              "                Image          Class\n",
              "count            6469           6469\n",
              "unique           6469              6\n",
              "top     image9093.jpg  Miscellaneous\n",
              "freq                1           2801"
            ]
          },
          "metadata": {
            "tags": []
          },
          "execution_count": 6
        }
      ]
    },
    {
      "cell_type": "code",
      "metadata": {
        "id": "HE72rqrkJsht",
        "colab": {
          "base_uri": "https://localhost:8080/"
        },
        "outputId": "2af772d3-51ff-4bb1-ea7f-51c29a676e10"
      },
      "source": [
        "data_frame.isnull().sum()"
      ],
      "execution_count": 7,
      "outputs": [
        {
          "output_type": "execute_result",
          "data": {
            "text/plain": [
              "Image    0\n",
              "Class    0\n",
              "dtype: int64"
            ]
          },
          "metadata": {
            "tags": []
          },
          "execution_count": 7
        }
      ]
    },
    {
      "cell_type": "code",
      "metadata": {
        "id": "QIBdts0sJshu",
        "colab": {
          "base_uri": "https://localhost:8080/",
          "height": 362
        },
        "outputId": "d02ea5aa-7f4c-45be-aa4b-fa2eee80ddff"
      },
      "source": [
        "data_frame.groupby( ['Class'] ).count().plot.bar()"
      ],
      "execution_count": 8,
      "outputs": [
        {
          "output_type": "execute_result",
          "data": {
            "text/plain": [
              "<matplotlib.axes._subplots.AxesSubplot at 0x7fc4ca7c8908>"
            ]
          },
          "metadata": {
            "tags": []
          },
          "execution_count": 8
        },
        {
          "output_type": "display_data",
          "data": {
            "image/png": "[encoded data removed]",
            "text/plain": [
              "<Figure size 432x288 with 1 Axes>"
            ]
          },
          "metadata": {
            "tags": [],
            "needs_background": "light"
          }
        }
      ]
    },
    {
      "cell_type": "code",
      "metadata": {
        "id": "dK6oyVRtJshv"
      },
      "source": [
        "Y = data_frame[['Class']].copy()"
      ],
      "execution_count": 9,
      "outputs": []
    },
    {
      "cell_type": "code",
      "metadata": {
        "id": "ObugfuR_Jshv"
      },
      "source": [
        "import matplotlib.pyplot as plt\n",
        "import seaborn as sns\n",
        "import tensorflow as tf\n",
        "import keras\n",
        "import os\n",
        "from keras.layers import Dense, Conv2D, MaxPooling2D, Dropout, BatchNormalization, Flatten, GlobalAveragePooling2D\n",
        "from keras.applications import Xception, InceptionResNetV2\n",
        "from keras.applications.xception import preprocess_input\n",
        "from keras.models import Sequential, load_model\n",
        "from keras.callbacks import ModelCheckpoint, ReduceLROnPlateau\n",
        "from keras.preprocessing import image\n",
        "from tensorflow.keras.preprocessing.image import ImageDataGenerator\n",
        "from sklearn.model_selection import KFold, StratifiedKFold"
      ],
      "execution_count": 10,
      "outputs": []
    },
    {
      "cell_type": "code",
      "metadata": {
        "id": "0et__CuRJshz"
      },
      "source": [
        "def create_new_model( name_of_model ):\n",
        "    if( name_of_model == 'xception' ):\n",
        "        print( 'Loading Xception...' )\n",
        "        inputs = tf.keras.Input( shape = ( TARGET_SIZE[0], TARGET_SIZE[1], 3 ) )\n",
        "        base_model = Xception( include_top = False, pooling = 'avg', input_tensor = inputs )\n",
        "        for layers in base_model.layers:\n",
        "            layers.trainable = False\n",
        "        x = base_model( base_model.inputs, training = False )\n",
        "        x = Dropout( 0.5 )( x )\n",
        "        x = Dense( 128, activation = 'relu' )( x )\n",
        "        outputs = Dense( 6, activation = 'softmax' )( x )\n",
        "        return keras.Model( inputs, outputs )\n",
        "    elif( name_of_model == 'irnv2' ):\n",
        "        print( 'Loading InceptionResNetV2...' )\n",
        "        inputs = tf.keras.Input( shape = ( TARGET_SIZE[0], TARGET_SIZE[1], 3 ) )\n",
        "        base_model = InceptionResNetV2( include_top = False, pooling = 'avg', input_tensor = inputs )\n",
        "        for layers in base_model.layers:\n",
        "            layers.trainable = False\n",
        "        x = base_model( base_model.inputs, training = False )\n",
        "        x = Dropout( 0.5 )( x )\n",
        "        x = Dense( 128, activation = 'relu' )( x )      \n",
        "        outputs = Dense( 6, activation = 'softmax' )( x )\n",
        "        return keras.Model( inputs, outputs )"
      ],
      "execution_count": 11,
      "outputs": []
    },
    {
      "cell_type": "code",
      "metadata": {
        "id": "M6-IlTN3Jsh0"
      },
      "source": [
        "def plot_metrics( history ):\n",
        "    \n",
        "    # Plotting accuracy history\n",
        "    plt.figure( figsize= (5,5 ) )\n",
        "    plt.plot( history.history['accuracy'] )\n",
        "    plt.plot(history.history['val_accuracy'])\n",
        "    plt.title('Accuracy Tracker', fontsize=15)\n",
        "    plt.xlabel('Epochs', fontsize=15)\n",
        "    plt.ylabel('Accuracy', fontsize=15)\n",
        "    plt.legend(['training', 'validation'])\n",
        "    plt.show()\n",
        "    \n",
        "    # Plotting accuracy history\n",
        "    plt.figure( figsize= (5,5 ) )\n",
        "    plt.plot( history.history['loss'] )\n",
        "    plt.plot(history.history['val_loss'])\n",
        "    plt.title('Loss Tracker', fontsize=15)\n",
        "    plt.xlabel('Epochs', fontsize=15)\n",
        "    plt.ylabel('Loss', fontsize=15)\n",
        "    plt.legend(['Training', 'Validation'])\n",
        "    plt.show()\n"
      ],
      "execution_count": 12,
      "outputs": []
    },
    {
      "cell_type": "code",
      "metadata": {
        "id": "GpQNUZPHz7ZS"
      },
      "source": [
        "skf = StratifiedKFold( n_splits = 5, shuffle = True, random_state = 42 )\r\n",
        "val_accuracy = list()\r\n",
        "val_loss = list()\r\n",
        "data = dict()\r\n",
        "fold_var = 1\r\n",
        "model_name = ['xception', 'irnv2']\r\n",
        "processing_function = { model_name[0] : keras.applications.xception.preprocess_input, model_name[1] : keras.applications.inception_resnet_v2.preprocess_input }"
      ],
      "execution_count": 13,
      "outputs": []
    },
    {
      "cell_type": "code",
      "metadata": {
        "id": "lIS-1RuLJshx"
      },
      "source": [
        "def get_model_name( name_of_model ):\n",
        "    return 'model_'+ name_of_model +'.h5'"
      ],
      "execution_count": 14,
      "outputs": []
    },
    {
      "cell_type": "code",
      "metadata": {
        "id": "ArVivhrWJsh0"
      },
      "source": [
        "def return_gen( name_of_model ):   \n",
        "    train_datagen = ImageDataGenerator( \n",
        "        horizontal_flip = True,\n",
        "        zoom_range = 0.2,\n",
        "        shear_range = 0.2,\n",
        "        preprocessing_function = processing_function[ name_of_model ] )\n",
        "\n",
        "    val_datagen = ImageDataGenerator( \n",
        "        preprocessing_function = processing_function[ name_of_model ] )\n",
        "    \n",
        "    return train_datagen, val_datagen"
      ],
      "execution_count": 15,
      "outputs": []
    },
    {
      "cell_type": "code",
      "metadata": {
        "id": "cTC_vInLJsh0",
        "colab": {
          "base_uri": "https://localhost:8080/",
          "height": 1000
        },
        "outputId": "1281e097-b572-414b-c37a-b845c99aa0d9"
      },
      "source": [
        "for train_idx, val_idx in skf.split( np.zeros( Y.shape[0] ), Y ):\n",
        "    \n",
        "    train_df = data_frame.iloc[train_idx]\n",
        "    val_df = data_frame.iloc[val_idx]\n",
        "\n",
        "    name_of_model = model_name[ fold_var -1 ]\n",
        "    print( 'Loading', name_of_model, '.....' )\n",
        "    train_datagen, val_datagen = return_gen( name_of_model )\n",
        "\n",
        "    train_data = train_datagen.flow_from_dataframe( dataframe = train_df, directory = os.path.join( data_dir, 'train/' ), x_col = \"Image\", y_col = \"Class\", target_size = TARGET_SIZE, class_mode = \"categorical\", shuffle = True, batch_size = BATCH_SIZE, seed = 42 )\n",
        "    val_data = val_datagen.flow_from_dataframe( dataframe = val_df, directory = os.path.join( data_dir, 'train/' ), x_col = \"Image\", y_col = \"Class\", target_size = TARGET_SIZE, class_mode = \"categorical\", shuffle = True, batch_size = BATCH_SIZE, seed = 42 )\n",
        "    \n",
        "    \n",
        "    mc = ModelCheckpoint( os.path.join( data_dir, get_model_name( name_of_model ) ), monitor = 'val_accuracy', mode = 'max', verbose = 1, save_best_only = True )\n",
        "    reduce_lr = ReduceLROnPlateau( monitor = 'val_loss', factor = 0.5, patience = 3, verbose = 1 )\n",
        "\n",
        "    model = create_new_model( model_name[ fold_var - 1 ] )\n",
        "\n",
        "    opt = keras.optimizers.Adam( learning_rate = 1e-2 )\n",
        "    model.compile( optimizer = opt, loss = 'categorical_crossentropy', metrics = ['accuracy'] )\n",
        "    history = model.fit( train_data, validation_data = val_data, epochs = 20, callbacks = [ mc, reduce_lr ], steps_per_epoch = train_data.__len__() )\n",
        "\n",
        "    plot_metrics( history )\n",
        "    model.load_weights( os.path.join( data_dir, get_model_name( name_of_model ) ) )\n",
        "    results = model.evaluate( val_data )\n",
        "    results = dict( zip( model.metrics_names, results ) )\n",
        "    \n",
        "    data[fold_var] = [ train_data, val_data ]\n",
        "    \n",
        "    val_accuracy.append( results['accuracy'] )\n",
        "    val_loss.append( results['loss'] )\n",
        "    fold_var += 1\n",
        "    tf.keras.backend.clear_session()\n",
        "    if( fold_var == 3 ):\n",
        "        break"
      ],
      "execution_count": 16,
      "outputs": [
        {
          "output_type": "stream",
          "text": [
            "Loading xception .....\n",
            "Found 5175 validated image filenames belonging to 6 classes.\n",
            "Found 1294 validated image filenames belonging to 6 classes.\n",
            "Loading Xception...\n",
            "Downloading data from https://storage.googleapis.com/tensorflow/keras-applications/xception/xception_weights_tf_dim_ordering_tf_kernels_notop.h5\n",
            "83689472/83683744 [==============================] - 1s 0us/step\n",
            "Epoch 1/20\n",
            "162/162 [==============================] - 119s 680ms/step - loss: 0.8241 - accuracy: 0.7463 - val_loss: 0.3299 - val_accuracy: 0.8764\n",
            "\n",
            "Epoch 00001: val_accuracy improved from -inf to 0.87635, saving model to /content/dataset/model_xception.h5\n",
            "Epoch 2/20\n",
            "162/162 [==============================] - 109s 672ms/step - loss: 0.3903 - accuracy: 0.8659 - val_loss: 0.3054 - val_accuracy: 0.8926\n",
            "\n",
            "Epoch 00002: val_accuracy improved from 0.87635 to 0.89258, saving model to /content/dataset/model_xception.h5\n",
            "Epoch 3/20\n",
            "162/162 [==============================] - 109s 673ms/step - loss: 0.3367 - accuracy: 0.8813 - val_loss: 0.3157 - val_accuracy: 0.8856\n",
            "\n",
            "Epoch 00003: val_accuracy did not improve from 0.89258\n",
            "Epoch 4/20\n",
            "162/162 [==============================] - 110s 678ms/step - loss: 0.3391 - accuracy: 0.8732 - val_loss: 0.3083 - val_accuracy: 0.8849\n",
            "\n",
            "Epoch 00004: val_accuracy did not improve from 0.89258\n",
            "Epoch 5/20\n",
            "162/162 [==============================] - 110s 680ms/step - loss: 0.2951 - accuracy: 0.8953 - val_loss: 0.2906 - val_accuracy: 0.8949\n",
            "\n",
            "Epoch 00005: val_accuracy improved from 0.89258 to 0.89490, saving model to /content/dataset/model_xception.h5\n",
            "Epoch 6/20\n",
            "162/162 [==============================] - 109s 672ms/step - loss: 0.3148 - accuracy: 0.8813 - val_loss: 0.3387 - val_accuracy: 0.8779\n",
            "\n",
            "Epoch 00006: val_accuracy did not improve from 0.89490\n",
            "Epoch 7/20\n",
            "162/162 [==============================] - 109s 669ms/step - loss: 0.2881 - accuracy: 0.8906 - val_loss: 0.3784 - val_accuracy: 0.8810\n",
            "\n",
            "Epoch 00007: val_accuracy did not improve from 0.89490\n",
            "Epoch 8/20\n",
            "162/162 [==============================] - 109s 674ms/step - loss: 0.3033 - accuracy: 0.8902 - val_loss: 0.2993 - val_accuracy: 0.8941\n",
            "\n",
            "Epoch 00008: val_accuracy did not improve from 0.89490\n",
            "\n",
            "Epoch 00008: ReduceLROnPlateau reducing learning rate to 0.004999999888241291.\n",
            "Epoch 9/20\n",
            "162/162 [==============================] - 109s 672ms/step - loss: 0.2565 - accuracy: 0.9075 - val_loss: 0.2989 - val_accuracy: 0.8980\n",
            "\n",
            "Epoch 00009: val_accuracy improved from 0.89490 to 0.89799, saving model to /content/dataset/model_xception.h5\n",
            "Epoch 10/20\n",
            "162/162 [==============================] - 110s 676ms/step - loss: 0.2371 - accuracy: 0.9134 - val_loss: 0.2977 - val_accuracy: 0.9042\n",
            "\n",
            "Epoch 00010: val_accuracy improved from 0.89799 to 0.90417, saving model to /content/dataset/model_xception.h5\n",
            "Epoch 11/20\n",
            "162/162 [==============================] - 110s 676ms/step - loss: 0.2199 - accuracy: 0.9209 - val_loss: 0.2710 - val_accuracy: 0.9049\n",
            "\n",
            "Epoch 00011: val_accuracy improved from 0.90417 to 0.90495, saving model to /content/dataset/model_xception.h5\n",
            "Epoch 12/20\n",
            "162/162 [==============================] - 110s 676ms/step - loss: 0.2106 - accuracy: 0.9269 - val_loss: 0.3071 - val_accuracy: 0.9026\n",
            "\n",
            "Epoch 00012: val_accuracy did not improve from 0.90495\n",
            "Epoch 13/20\n",
            "162/162 [==============================] - 109s 674ms/step - loss: 0.2164 - accuracy: 0.9283 - val_loss: 0.2804 - val_accuracy: 0.8988\n",
            "\n",
            "Epoch 00013: val_accuracy did not improve from 0.90495\n",
            "Epoch 14/20\n",
            "162/162 [==============================] - 109s 675ms/step - loss: 0.2218 - accuracy: 0.9172 - val_loss: 0.2627 - val_accuracy: 0.9150\n",
            "\n",
            "Epoch 00014: val_accuracy improved from 0.90495 to 0.91499, saving model to /content/dataset/model_xception.h5\n",
            "Epoch 15/20\n",
            "162/162 [==============================] - 110s 680ms/step - loss: 0.2025 - accuracy: 0.9229 - val_loss: 0.2682 - val_accuracy: 0.9065\n",
            "\n",
            "Epoch 00015: val_accuracy did not improve from 0.91499\n",
            "Epoch 16/20\n",
            "162/162 [==============================] - 110s 678ms/step - loss: 0.2158 - accuracy: 0.9246 - val_loss: 0.2870 - val_accuracy: 0.9127\n",
            "\n",
            "Epoch 00016: val_accuracy did not improve from 0.91499\n",
            "Epoch 17/20\n",
            "162/162 [==============================] - 110s 676ms/step - loss: 0.2247 - accuracy: 0.9156 - val_loss: 0.2856 - val_accuracy: 0.9080\n",
            "\n",
            "Epoch 00017: val_accuracy did not improve from 0.91499\n",
            "\n",
            "Epoch 00017: ReduceLROnPlateau reducing learning rate to 0.0024999999441206455.\n",
            "Epoch 18/20\n",
            "162/162 [==============================] - 109s 675ms/step - loss: 0.1930 - accuracy: 0.9297 - val_loss: 0.2673 - val_accuracy: 0.9104\n",
            "\n",
            "Epoch 00018: val_accuracy did not improve from 0.91499\n",
            "Epoch 19/20\n",
            "162/162 [==============================] - 110s 676ms/step - loss: 0.1650 - accuracy: 0.9407 - val_loss: 0.2819 - val_accuracy: 0.9057\n",
            "\n",
            "Epoch 00019: val_accuracy did not improve from 0.91499\n",
            "Epoch 20/20\n",
            "162/162 [==============================] - 110s 677ms/step - loss: 0.1853 - accuracy: 0.9317 - val_loss: 0.2579 - val_accuracy: 0.9212\n",
            "\n",
            "Epoch 00020: val_accuracy improved from 0.91499 to 0.92117, saving model to /content/dataset/model_xception.h5\n"
          ],
          "name": "stdout"
        },
        {
          "output_type": "display_data",
          "data": {
            "image/png": "[encoded data removed]",
            "text/plain": [
              "<Figure size 360x360 with 1 Axes>"
            ]
          },
          "metadata": {
            "tags": [],
            "needs_background": "light"
          }
        },
        {
          "output_type": "display_data",
          "data": {
            "image/png": "[encoded data removed]",
            "text/plain": [
              "<Figure size 360x360 with 1 Axes>"
            ]
          },
          "metadata": {
            "tags": [],
            "needs_background": "light"
          }
        },
        {
          "output_type": "stream",
          "text": [
            "41/41 [==============================] - 10s 247ms/step - loss: 0.2579 - accuracy: 0.9212\n",
            "Loading irnv2 .....\n",
            "Found 5175 validated image filenames belonging to 6 classes.\n",
            "Found 1294 validated image filenames belonging to 6 classes.\n",
            "Loading InceptionResNetV2...\n",
            "Downloading data from https://storage.googleapis.com/tensorflow/keras-applications/inception_resnet_v2/inception_resnet_v2_weights_tf_dim_ordering_tf_kernels_notop.h5\n",
            "219062272/219055592 [==============================] - 1s 0us/step\n",
            "Epoch 1/20\n",
            "162/162 [==============================] - 129s 741ms/step - loss: 1.5952 - accuracy: 0.6632 - val_loss: 0.2830 - val_accuracy: 0.8964\n",
            "\n",
            "Epoch 00001: val_accuracy improved from -inf to 0.89645, saving model to /content/dataset/model_irnv2.h5\n",
            "Epoch 2/20\n",
            "162/162 [==============================] - 117s 723ms/step - loss: 0.4054 - accuracy: 0.8663 - val_loss: 0.2991 - val_accuracy: 0.8972\n",
            "\n",
            "Epoch 00002: val_accuracy improved from 0.89645 to 0.89722, saving model to /content/dataset/model_irnv2.h5\n",
            "Epoch 3/20\n",
            "162/162 [==============================] - 117s 719ms/step - loss: 0.4504 - accuracy: 0.8438 - val_loss: 0.3017 - val_accuracy: 0.8988\n",
            "\n",
            "Epoch 00003: val_accuracy improved from 0.89722 to 0.89876, saving model to /content/dataset/model_irnv2.h5\n",
            "Epoch 4/20\n",
            "162/162 [==============================] - 118s 726ms/step - loss: 0.3897 - accuracy: 0.8743 - val_loss: 0.2944 - val_accuracy: 0.8980\n",
            "\n",
            "Epoch 00004: val_accuracy did not improve from 0.89876\n",
            "\n",
            "Epoch 00004: ReduceLROnPlateau reducing learning rate to 0.004999999888241291.\n",
            "Epoch 5/20\n",
            "162/162 [==============================] - 116s 718ms/step - loss: 0.3255 - accuracy: 0.8831 - val_loss: 0.2715 - val_accuracy: 0.8995\n",
            "\n",
            "Epoch 00005: val_accuracy improved from 0.89876 to 0.89954, saving model to /content/dataset/model_irnv2.h5\n",
            "Epoch 6/20\n",
            "162/162 [==============================] - 116s 718ms/step - loss: 0.3190 - accuracy: 0.8794 - val_loss: 0.2599 - val_accuracy: 0.9042\n",
            "\n",
            "Epoch 00006: val_accuracy improved from 0.89954 to 0.90417, saving model to /content/dataset/model_irnv2.h5\n",
            "Epoch 7/20\n",
            "162/162 [==============================] - 117s 719ms/step - loss: 0.3220 - accuracy: 0.8797 - val_loss: 0.2581 - val_accuracy: 0.9057\n",
            "\n",
            "Epoch 00007: val_accuracy improved from 0.90417 to 0.90572, saving model to /content/dataset/model_irnv2.h5\n",
            "Epoch 8/20\n",
            "162/162 [==============================] - 116s 717ms/step - loss: 0.3156 - accuracy: 0.8885 - val_loss: 0.2664 - val_accuracy: 0.9080\n",
            "\n",
            "Epoch 00008: val_accuracy improved from 0.90572 to 0.90804, saving model to /content/dataset/model_irnv2.h5\n",
            "Epoch 9/20\n",
            "162/162 [==============================] - 116s 716ms/step - loss: 0.3227 - accuracy: 0.8843 - val_loss: 0.2506 - val_accuracy: 0.9088\n",
            "\n",
            "Epoch 00009: val_accuracy improved from 0.90804 to 0.90881, saving model to /content/dataset/model_irnv2.h5\n",
            "Epoch 10/20\n",
            "162/162 [==============================] - 117s 720ms/step - loss: 0.3014 - accuracy: 0.8929 - val_loss: 0.2906 - val_accuracy: 0.8926\n",
            "\n",
            "Epoch 00010: val_accuracy did not improve from 0.90881\n",
            "Epoch 11/20\n",
            "162/162 [==============================] - 117s 721ms/step - loss: 0.3063 - accuracy: 0.8959 - val_loss: 0.2502 - val_accuracy: 0.9111\n",
            "\n",
            "Epoch 00011: val_accuracy improved from 0.90881 to 0.91113, saving model to /content/dataset/model_irnv2.h5\n",
            "Epoch 12/20\n",
            "162/162 [==============================] - 117s 722ms/step - loss: 0.3182 - accuracy: 0.8857 - val_loss: 0.2458 - val_accuracy: 0.9119\n",
            "\n",
            "Epoch 00012: val_accuracy improved from 0.91113 to 0.91190, saving model to /content/dataset/model_irnv2.h5\n",
            "Epoch 13/20\n",
            "162/162 [==============================] - 117s 719ms/step - loss: 0.2838 - accuracy: 0.8889 - val_loss: 0.2597 - val_accuracy: 0.9096\n",
            "\n",
            "Epoch 00013: val_accuracy did not improve from 0.91190\n",
            "Epoch 14/20\n",
            "162/162 [==============================] - 117s 720ms/step - loss: 0.2909 - accuracy: 0.8967 - val_loss: 0.2871 - val_accuracy: 0.8972\n",
            "\n",
            "Epoch 00014: val_accuracy did not improve from 0.91190\n",
            "Epoch 15/20\n",
            "162/162 [==============================] - 117s 719ms/step - loss: 0.2723 - accuracy: 0.9039 - val_loss: 0.2532 - val_accuracy: 0.9049\n",
            "\n",
            "Epoch 00015: val_accuracy did not improve from 0.91190\n",
            "\n",
            "Epoch 00015: ReduceLROnPlateau reducing learning rate to 0.0024999999441206455.\n",
            "Epoch 16/20\n",
            "162/162 [==============================] - 116s 716ms/step - loss: 0.2655 - accuracy: 0.9044 - val_loss: 0.2509 - val_accuracy: 0.9150\n",
            "\n",
            "Epoch 00016: val_accuracy improved from 0.91190 to 0.91499, saving model to /content/dataset/model_irnv2.h5\n",
            "Epoch 17/20\n",
            "162/162 [==============================] - 116s 717ms/step - loss: 0.2757 - accuracy: 0.9018 - val_loss: 0.2419 - val_accuracy: 0.9158\n",
            "\n",
            "Epoch 00017: val_accuracy improved from 0.91499 to 0.91577, saving model to /content/dataset/model_irnv2.h5\n",
            "Epoch 18/20\n",
            "162/162 [==============================] - 117s 719ms/step - loss: 0.2801 - accuracy: 0.8865 - val_loss: 0.2582 - val_accuracy: 0.9049\n",
            "\n",
            "Epoch 00018: val_accuracy did not improve from 0.91577\n",
            "Epoch 19/20\n",
            "162/162 [==============================] - 116s 717ms/step - loss: 0.2683 - accuracy: 0.8978 - val_loss: 0.2302 - val_accuracy: 0.9127\n",
            "\n",
            "Epoch 00019: val_accuracy did not improve from 0.91577\n",
            "Epoch 20/20\n",
            "162/162 [==============================] - 116s 718ms/step - loss: 0.2598 - accuracy: 0.9063 - val_loss: 0.2492 - val_accuracy: 0.9111\n",
            "\n",
            "Epoch 00020: val_accuracy did not improve from 0.91577\n"
          ],
          "name": "stdout"
        },
        {
          "output_type": "display_data",
          "data": {
            "image/png": "[encoded data removed]",
            "text/plain": [
              "<Figure size 360x360 with 1 Axes>"
            ]
          },
          "metadata": {
            "tags": [],
            "needs_background": "light"
          }
        },
        {
          "output_type": "display_data",
          "data": {
            "image/png": "[encoded data removed]",
            "text/plain": [
              "<Figure size 360x360 with 1 Axes>"
            ]
          },
          "metadata": {
            "tags": [],
            "needs_background": "light"
          }
        },
        {
          "output_type": "stream",
          "text": [
            "41/41 [==============================] - 13s 323ms/step - loss: 0.2419 - accuracy: 0.9158\n"
          ],
          "name": "stdout"
        }
      ]
    },
    {
      "cell_type": "code",
      "metadata": {
        "id": "JCH_NYFQPXTX"
      },
      "source": [
        "def fine_tune( name_of_model ):\r\n",
        "    if( name_of_model == 'xception' ):\r\n",
        "        print( 'Loading Xception...' )\r\n",
        "        model = create_new_model( name_of_model )\r\n",
        "        idx = model_name.index( name_of_model ) + 1\r\n",
        "        model.load_weights( os.path.join( data_dir, get_model_name( name_of_model ) ) )\r\n",
        "        # opt = keras.optimizers.Adam( learning_rate = 1e-2 )\r\n",
        "        # model.compile( optimizer = opt, loss = 'categorical_crossentropy', metrics = ['accuracy'] )\r\n",
        "        # mc = ModelCheckpoint( os.path.join( data_dir, 'best_' + get_model_name( name_of_model ) ), monitor = 'val_accuracy', mode = 'max', verbose = 1, save_best_only = True )\r\n",
        "        # reduce_lr = ReduceLROnPlateau( monitor = 'val_loss', factor = 0.5, patience = 3, verbose = 1 )\r\n",
        "        # history = model.fit( data[idx][0], validation_data = data[idx][1], epochs = 20, callbacks = [ mc, reduce_lr ], steps_per_epoch = data[idx][0].__len__() )\r\n",
        "        # print( model.summary() )\r\n",
        "        for layers in model.layers[1].layers[126:]:\r\n",
        "            layers.trainable = True\r\n",
        "        print( model.summary() )\r\n",
        "        opt = keras.optimizers.Adam( learning_rate = 1e-5 )\r\n",
        "        model.compile( optimizer = opt, loss = 'categorical_crossentropy', metrics = ['accuracy'] )\r\n",
        "        mc = ModelCheckpoint( os.path.join( data_dir, 'best_' + get_model_name( name_of_model ) ), monitor = 'val_accuracy', mode = 'max', verbose = 1, save_best_only = True )\r\n",
        "        reduce_lr = ReduceLROnPlateau( monitor = 'val_loss', factor = 0.5, patience = 3, verbose = 1 )\r\n",
        "        history = model.fit( data[idx][0], validation_data = data[idx][1], epochs = 15, callbacks = [ mc, reduce_lr ], steps_per_epoch = data[idx][0].__len__() )\r\n",
        "\r\n",
        "    elif( name_of_model == 'irnv2' ):\r\n",
        "        print( 'Loading InceptionResNetV2...' )\r\n",
        "        model = create_new_model( name_of_model )\r\n",
        "        idx = model_name.index( name_of_model ) + 1\r\n",
        "        model.load_weights( os.path.join( data_dir, get_model_name( name_of_model ) ) )\r\n",
        "        # opt = keras.optimizers.Adam( learning_rate = 1e-2 )\r\n",
        "        # model.compile( optimizer = opt, loss = 'categorical_crossentropy', metrics = ['accuracy'] )\r\n",
        "        # mc = ModelCheckpoint(  os.path.join( data_dir, 'best_' + get_model_name( name_of_model ) ), monitor = 'val_accuracy', mode = 'max', verbose = 1, save_best_only = True )\r\n",
        "        # reduce_lr = ReduceLROnPlateau( monitor = 'val_loss', factor = 0.5, patience = 3, verbose = 1 )\r\n",
        "        # history = model.fit( data[idx][0], validation_data = data[idx][1], epochs = 20, callbacks = [ mc, reduce_lr ], steps_per_epoch = data[idx][0].__len__() )\r\n",
        "        # print( model.summary() )\r\n",
        "        for layers in model.layers[1].layers[774:]:\r\n",
        "            layers.trainable = True\r\n",
        "        print( model.summary() )\r\n",
        "        opt = keras.optimizers.Adam( learning_rate = 1e-5 )\r\n",
        "        model.compile( optimizer = opt, loss = 'categorical_crossentropy', metrics = ['accuracy'] )\r\n",
        "        mc = ModelCheckpoint(  os.path.join( data_dir, 'best_' + get_model_name( name_of_model ) ), monitor = 'val_accuracy', mode = 'max', verbose = 1, save_best_only = True )\r\n",
        "        reduce_lr = ReduceLROnPlateau( monitor = 'val_loss', factor = 0.5, patience = 3, verbose = 1 )\r\n",
        "        history = model.fit( data[idx][0], validation_data = data[idx][1], epochs = 15, callbacks = [ mc, reduce_lr ], steps_per_epoch = data[idx][0].__len__() )\r\n"
      ],
      "execution_count": 17,
      "outputs": []
    },
    {
      "cell_type": "code",
      "metadata": {
        "id": "0C7QY90ZJsh1",
        "colab": {
          "base_uri": "https://localhost:8080/"
        },
        "outputId": "d42d0070-fe0f-40e0-d542-b7392f1bb14c"
      },
      "source": [
        "for name_of_model in model_name:\n",
        "    fine_tune( name_of_model )"
      ],
      "execution_count": 18,
      "outputs": [
        {
          "output_type": "stream",
          "text": [
            "Loading Xception...\n",
            "Loading Xception...\n",
            "Model: \"model\"\n",
            "_________________________________________________________________\n",
            "Layer (type)                 Output Shape              Param #   \n",
            "=================================================================\n",
            "input_1 (InputLayer)         [(None, 299, 299, 3)]     0         \n",
            "_________________________________________________________________\n",
            "xception (Functional)        (None, 2048)              20861480  \n",
            "_________________________________________________________________\n",
            "dropout (Dropout)            (None, 2048)              0         \n",
            "_________________________________________________________________\n",
            "dense (Dense)                (None, 128)               262272    \n",
            "_________________________________________________________________\n",
            "dense_1 (Dense)              (None, 6)                 774       \n",
            "=================================================================\n",
            "Total params: 21,124,526\n",
            "Trainable params: 5,011,846\n",
            "Non-trainable params: 16,112,680\n",
            "_________________________________________________________________\n",
            "None\n",
            "Epoch 1/15\n",
            "162/162 [==============================] - 115s 692ms/step - loss: 0.1537 - accuracy: 0.9404 - val_loss: 0.2590 - val_accuracy: 0.9181\n",
            "\n",
            "Epoch 00001: val_accuracy improved from -inf to 0.91808, saving model to /content/dataset/best_model_xception.h5\n",
            "Epoch 2/15\n",
            "162/162 [==============================] - 112s 689ms/step - loss: 0.1420 - accuracy: 0.9505 - val_loss: 0.2587 - val_accuracy: 0.9173\n",
            "\n",
            "Epoch 00002: val_accuracy did not improve from 0.91808\n",
            "Epoch 3/15\n",
            "162/162 [==============================] - 111s 687ms/step - loss: 0.1603 - accuracy: 0.9431 - val_loss: 0.2563 - val_accuracy: 0.9189\n",
            "\n",
            "Epoch 00003: val_accuracy improved from 0.91808 to 0.91886, saving model to /content/dataset/best_model_xception.h5\n",
            "Epoch 4/15\n",
            "162/162 [==============================] - 111s 687ms/step - loss: 0.1469 - accuracy: 0.9490 - val_loss: 0.2572 - val_accuracy: 0.9181\n",
            "\n",
            "Epoch 00004: val_accuracy did not improve from 0.91886\n",
            "Epoch 5/15\n",
            "162/162 [==============================] - 112s 689ms/step - loss: 0.1397 - accuracy: 0.9452 - val_loss: 0.2598 - val_accuracy: 0.9173\n",
            "\n",
            "Epoch 00005: val_accuracy did not improve from 0.91886\n",
            "Epoch 6/15\n",
            "162/162 [==============================] - 111s 686ms/step - loss: 0.1435 - accuracy: 0.9476 - val_loss: 0.2555 - val_accuracy: 0.9181\n",
            "\n",
            "Epoch 00006: val_accuracy did not improve from 0.91886\n",
            "Epoch 7/15\n",
            "162/162 [==============================] - 111s 687ms/step - loss: 0.1160 - accuracy: 0.9570 - val_loss: 0.2561 - val_accuracy: 0.9212\n",
            "\n",
            "Epoch 00007: val_accuracy improved from 0.91886 to 0.92117, saving model to /content/dataset/best_model_xception.h5\n",
            "Epoch 8/15\n",
            "162/162 [==============================] - 111s 687ms/step - loss: 0.1337 - accuracy: 0.9478 - val_loss: 0.2555 - val_accuracy: 0.9189\n",
            "\n",
            "Epoch 00008: val_accuracy did not improve from 0.92117\n",
            "Epoch 9/15\n",
            "162/162 [==============================] - 111s 687ms/step - loss: 0.1138 - accuracy: 0.9593 - val_loss: 0.2520 - val_accuracy: 0.9212\n",
            "\n",
            "Epoch 00009: val_accuracy did not improve from 0.92117\n",
            "Epoch 10/15\n",
            "162/162 [==============================] - 112s 690ms/step - loss: 0.1113 - accuracy: 0.9558 - val_loss: 0.2548 - val_accuracy: 0.9181\n",
            "\n",
            "Epoch 00010: val_accuracy did not improve from 0.92117\n",
            "Epoch 11/15\n",
            "162/162 [==============================] - ETA: 0s - loss: 0.1059 - accuracy: 0.9611\n",
            "Epoch 00011: val_accuracy did not improve from 0.92117\n",
            "Epoch 12/15\n",
            "162/162 [==============================] - 112s 689ms/step - loss: 0.1098 - accuracy: 0.9590 - val_loss: 0.2589 - val_accuracy: 0.9227\n",
            "\n",
            "Epoch 00012: val_accuracy improved from 0.92117 to 0.92272, saving model to /content/dataset/best_model_xception.h5\n",
            "\n",
            "Epoch 00012: ReduceLROnPlateau reducing learning rate to 4.999999873689376e-06.\n",
            "Epoch 13/15\n",
            "162/162 [==============================] - 112s 691ms/step - loss: 0.1089 - accuracy: 0.9592 - val_loss: 0.2553 - val_accuracy: 0.9204\n",
            "\n",
            "Epoch 00013: val_accuracy did not improve from 0.92272\n",
            "Epoch 14/15\n",
            "162/162 [==============================] - 112s 688ms/step - loss: 0.1073 - accuracy: 0.9625 - val_loss: 0.2583 - val_accuracy: 0.9204\n",
            "\n",
            "Epoch 00014: val_accuracy did not improve from 0.92272\n",
            "Epoch 15/15\n",
            "162/162 [==============================] - 111s 683ms/step - loss: 0.1059 - accuracy: 0.9625 - val_loss: 0.2578 - val_accuracy: 0.9204\n",
            "\n",
            "Epoch 00015: val_accuracy did not improve from 0.92272\n",
            "\n",
            "Epoch 00015: ReduceLROnPlateau reducing learning rate to 2.499999936844688e-06.\n",
            "Loading InceptionResNetV2...\n",
            "Loading InceptionResNetV2...\n",
            "Model: \"model_1\"\n",
            "_________________________________________________________________\n",
            "Layer (type)                 Output Shape              Param #   \n",
            "=================================================================\n",
            "input_2 (InputLayer)         [(None, 299, 299, 3)]     0         \n",
            "_________________________________________________________________\n",
            "inception_resnet_v2 (Functio (None, 1536)              54336736  \n",
            "_________________________________________________________________\n",
            "dropout_1 (Dropout)          (None, 1536)              0         \n",
            "_________________________________________________________________\n",
            "dense_2 (Dense)              (None, 128)               196736    \n",
            "_________________________________________________________________\n",
            "dense_3 (Dense)              (None, 6)                 774       \n",
            "=================================================================\n",
            "Total params: 54,534,246\n",
            "Trainable params: 4,327,846\n",
            "Non-trainable params: 50,206,400\n",
            "_________________________________________________________________\n",
            "None\n",
            "Epoch 1/15\n",
            "162/162 [==============================] - 128s 737ms/step - loss: 0.2338 - accuracy: 0.9197 - val_loss: 0.2294 - val_accuracy: 0.9150\n",
            "\n",
            "Epoch 00001: val_accuracy improved from -inf to 0.91499, saving model to /content/dataset/best_model_irnv2.h5\n",
            "Epoch 2/15\n",
            "162/162 [==============================] - 117s 721ms/step - loss: 0.2410 - accuracy: 0.9116 - val_loss: 0.2261 - val_accuracy: 0.9165\n",
            "\n",
            "Epoch 00002: val_accuracy improved from 0.91499 to 0.91654, saving model to /content/dataset/best_model_irnv2.h5\n",
            "Epoch 3/15\n",
            "162/162 [==============================] - 118s 728ms/step - loss: 0.2294 - accuracy: 0.9221 - val_loss: 0.2231 - val_accuracy: 0.9189\n",
            "\n",
            "Epoch 00003: val_accuracy improved from 0.91654 to 0.91886, saving model to /content/dataset/best_model_irnv2.h5\n",
            "Epoch 4/15\n",
            "162/162 [==============================] - 118s 725ms/step - loss: 0.2172 - accuracy: 0.9175 - val_loss: 0.2217 - val_accuracy: 0.9173\n",
            "\n",
            "Epoch 00004: val_accuracy did not improve from 0.91886\n",
            "Epoch 5/15\n",
            "162/162 [==============================] - 118s 726ms/step - loss: 0.2116 - accuracy: 0.9212 - val_loss: 0.2243 - val_accuracy: 0.9150\n",
            "\n",
            "Epoch 00005: val_accuracy did not improve from 0.91886\n",
            "Epoch 6/15\n",
            "162/162 [==============================] - 118s 727ms/step - loss: 0.2088 - accuracy: 0.9201 - val_loss: 0.2235 - val_accuracy: 0.9165\n",
            "\n",
            "Epoch 00006: val_accuracy did not improve from 0.91886\n",
            "Epoch 7/15\n",
            "162/162 [==============================] - 117s 724ms/step - loss: 0.2118 - accuracy: 0.9187 - val_loss: 0.2164 - val_accuracy: 0.9196\n",
            "\n",
            "Epoch 00007: val_accuracy improved from 0.91886 to 0.91963, saving model to /content/dataset/best_model_irnv2.h5\n",
            "Epoch 8/15\n",
            "162/162 [==============================] - 118s 727ms/step - loss: 0.1993 - accuracy: 0.9271 - val_loss: 0.2174 - val_accuracy: 0.9173\n",
            "\n",
            "Epoch 00008: val_accuracy did not improve from 0.91963\n",
            "Epoch 9/15\n",
            "162/162 [==============================] - 117s 722ms/step - loss: 0.1859 - accuracy: 0.9299 - val_loss: 0.2187 - val_accuracy: 0.9173\n",
            "\n",
            "Epoch 00009: val_accuracy did not improve from 0.91963\n",
            "Epoch 10/15\n",
            "162/162 [==============================] - 117s 722ms/step - loss: 0.1702 - accuracy: 0.9399 - val_loss: 0.2183 - val_accuracy: 0.9189\n",
            "\n",
            "Epoch 00010: val_accuracy did not improve from 0.91963\n",
            "\n",
            "Epoch 00010: ReduceLROnPlateau reducing learning rate to 4.999999873689376e-06.\n",
            "Epoch 11/15\n",
            "162/162 [==============================] - 117s 721ms/step - loss: 0.1942 - accuracy: 0.9299 - val_loss: 0.2177 - val_accuracy: 0.9189\n",
            "\n",
            "Epoch 00011: val_accuracy did not improve from 0.91963\n",
            "Epoch 12/15\n",
            "162/162 [==============================] - 117s 719ms/step - loss: 0.1792 - accuracy: 0.9328 - val_loss: 0.2197 - val_accuracy: 0.9181\n",
            "\n",
            "Epoch 00012: val_accuracy did not improve from 0.91963\n",
            "Epoch 13/15\n",
            "162/162 [==============================] - 117s 718ms/step - loss: 0.1660 - accuracy: 0.9399 - val_loss: 0.2165 - val_accuracy: 0.9212\n",
            "\n",
            "Epoch 00013: val_accuracy improved from 0.91963 to 0.92117, saving model to /content/dataset/best_model_irnv2.h5\n",
            "\n",
            "Epoch 00013: ReduceLROnPlateau reducing learning rate to 2.499999936844688e-06.\n",
            "Epoch 14/15\n",
            "162/162 [==============================] - 116s 716ms/step - loss: 0.1763 - accuracy: 0.9307 - val_loss: 0.2188 - val_accuracy: 0.9204\n",
            "\n",
            "Epoch 00014: val_accuracy did not improve from 0.92117\n",
            "Epoch 15/15\n",
            "162/162 [==============================] - 116s 716ms/step - loss: 0.1834 - accuracy: 0.9371 - val_loss: 0.2153 - val_accuracy: 0.9204\n",
            "\n",
            "Epoch 00015: val_accuracy did not improve from 0.92117\n"
          ],
          "name": "stdout"
        }
      ]
    },
    {
      "cell_type": "code",
      "metadata": {
        "id": "3LGFZ8o9Jsh1"
      },
      "source": [
        "from distutils.dir_util import copy_tree\n",
        "copy_tree( data_dir + '/test', data_dir + '/test_2/test' )"
      ],
      "execution_count": null,
      "outputs": []
    },
    {
      "cell_type": "code",
      "metadata": {
        "id": "c1pwy4KwJsh1"
      },
      "source": [
        "def return_test_gen( name_of_model ):\n",
        "    test_datagen = ImageDataGenerator( \n",
        "        preprocessing_function = processing_function[ name_of_model ] )\n",
        "    return test_datagen"
      ],
      "execution_count": 20,
      "outputs": []
    },
    {
      "cell_type": "code",
      "metadata": {
        "id": "h-HVWj-CkQ4o"
      },
      "source": [
        "def ensemble_prediction( name_of_model ):\r\n",
        "    test_datagen = return_test_gen( name_of_model )\r\n",
        "    test_data = test_datagen.flow_from_directory( \r\n",
        "        data_dir + '/test_2', \r\n",
        "        target_size = TARGET_SIZE, \r\n",
        "        color_mode = 'rgb', \r\n",
        "        shuffle = False, \r\n",
        "        batch_size = BATCH_SIZE,\r\n",
        "        seed = 42 )\r\n",
        "    return test_data"
      ],
      "execution_count": 21,
      "outputs": []
    },
    {
      "cell_type": "code",
      "metadata": {
        "id": "nTN4pqXLfGaH"
      },
      "source": [
        "def return_best_model( name_of_model ):\r\n",
        "    if( name_of_model == 'xception' ):\r\n",
        "        print( 'Loading Xception...' )\r\n",
        "        model = create_new_model( name_of_model )\r\n",
        "        for layers in model.layers[1].layers[126:]:\r\n",
        "            layers.trainable = True\r\n",
        "        model.load_weights( os.path.join( data_dir, 'best_' + get_model_name( name_of_model ) ) )\r\n",
        "        opt = keras.optimizers.Adam( learning_rate = 1e-5 )\r\n",
        "        model.compile( optimizer = opt, loss = 'categorical_crossentropy', metrics = ['accuracy'] )\r\n",
        "        return model\r\n",
        "\r\n",
        "    elif( name_of_model == 'irnv2' ):\r\n",
        "        print( 'Loading InceptionResNetV2...' )\r\n",
        "        model = create_new_model( name_of_model )\r\n",
        "        for layers in model.layers[1].layers[774:]:\r\n",
        "            layers.trainable = True\r\n",
        "        model.load_weights( os.path.join( data_dir, 'best_' + get_model_name( name_of_model ) ) )\r\n",
        "        opt = keras.optimizers.Adam( learning_rate = 1e-5 )\r\n",
        "        model.compile( optimizer = opt, loss = 'categorical_crossentropy', metrics = ['accuracy'] )\r\n",
        "        return model"
      ],
      "execution_count": 22,
      "outputs": []
    },
    {
      "cell_type": "code",
      "metadata": {
        "id": "mv-h3no8mA8U"
      },
      "source": [
        "pred_ensemble = np.zeros( ( 3489, 6 ), dtype = 'float' )"
      ],
      "execution_count": 23,
      "outputs": []
    },
    {
      "cell_type": "code",
      "metadata": {
        "colab": {
          "base_uri": "https://localhost:8080/"
        },
        "id": "QDsalITBJsh1",
        "outputId": "36f0f034-1b9f-4ae5-9959-c35abef9b1fa"
      },
      "source": [
        "for name_of_model in model_name:\n",
        "    print( name_of_model )\n",
        "    test_data = ensemble_prediction( name_of_model )\n",
        "    model = return_best_model( name_of_model )\n",
        "    pred_ensemble += model.predict( test_data , steps = test_data.__len__(), verbose = 1 )"
      ],
      "execution_count": 24,
      "outputs": [
        {
          "output_type": "stream",
          "text": [
            "xception\n",
            "Found 3489 images belonging to 1 classes.\n",
            "Loading Xception...\n",
            "Loading Xception...\n",
            "110/110 [==============================] - 29s 264ms/step\n",
            "irnv2\n",
            "Found 3489 images belonging to 1 classes.\n",
            "Loading InceptionResNetV2...\n",
            "Loading InceptionResNetV2...\n",
            "110/110 [==============================] - 39s 327ms/step\n"
          ],
          "name": "stdout"
        }
      ]
    },
    {
      "cell_type": "code",
      "metadata": {
        "colab": {
          "base_uri": "https://localhost:8080/"
        },
        "id": "zF-RjPDNnPPi",
        "outputId": "62ec1379-374b-4263-9b2b-72b33dbbf849"
      },
      "source": [
        "pred_ensemble"
      ],
      "execution_count": 25,
      "outputs": [
        {
          "output_type": "execute_result",
          "data": {
            "text/plain": [
              "array([[5.16632275e-06, 4.56136682e-07, 9.80599643e-07, 2.14574156e-04,\n",
              "        1.99977714e+00, 1.67337392e-06],\n",
              "       [1.99946779e+00, 5.54257101e-06, 1.53303372e-05, 2.61830609e-05,\n",
              "        4.83467519e-04, 1.71692726e-06],\n",
              "       [1.20926430e-07, 3.31051519e-09, 9.38269793e-07, 1.99979895e+00,\n",
              "        1.99934388e-04, 2.62573952e-09],\n",
              "       ...,\n",
              "       [6.78809453e-10, 7.22653426e-08, 1.99992943e+00, 1.02114978e-07,\n",
              "        6.68857901e-05, 3.37177728e-06],\n",
              "       [5.06546039e-12, 1.99877745e+00, 1.21966037e-03, 7.55841691e-16,\n",
              "        2.75935871e-06, 7.11620571e-08],\n",
              "       [2.47840733e-04, 1.30175564e-04, 1.06814120e-03, 1.25438887e+00,\n",
              "        7.44119670e-01, 4.52916733e-05]])"
            ]
          },
          "metadata": {
            "tags": []
          },
          "execution_count": 25
        }
      ]
    },
    {
      "cell_type": "code",
      "metadata": {
        "colab": {
          "base_uri": "https://localhost:8080/"
        },
        "id": "hvgtUE_Hjn02",
        "outputId": "a040b828-79d6-4d2b-8f7f-80b48f3efe5e"
      },
      "source": [
        "predicted_class_indices = np.argmax( pred_ensemble, axis = 1 )\r\n",
        "labels = ( train_data.class_indices )\r\n",
        "print( labels )\r\n",
        "labels = dict((v,k) for k,v in labels.items() )\r\n",
        "predictions = [labels[k] for k in predicted_class_indices]"
      ],
      "execution_count": 26,
      "outputs": [
        {
          "output_type": "stream",
          "text": [
            "{'Airplane': 0, 'Candle': 1, 'Christmas_Tree': 2, 'Jacket': 3, 'Miscellaneous': 4, 'Snowman': 5}\n"
          ],
          "name": "stdout"
        }
      ]
    },
    {
      "cell_type": "code",
      "metadata": {
        "id": "HU2TXTpHJsh1"
      },
      "source": [
        "filenames = test_data.filenames\n",
        "filenames = [ filenames[i].split('/')[1] for i in range( 0, len( filenames ) ) ]\n",
        "results = pd.DataFrame( { \"Image\":filenames, \"Class\":predictions } )\n",
        "results.to_csv( data_dir + '/results.csv', index = False )"
      ],
      "execution_count": 27,
      "outputs": []
    },
    {
      "cell_type": "code",
      "metadata": {
        "id": "-GqPpf8TnhhU"
      },
      "source": [
        ""
      ],
      "execution_count": null,
      "outputs": []
    }
  ]
}